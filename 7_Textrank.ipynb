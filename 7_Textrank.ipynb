{
  "nbformat": 4,
  "nbformat_minor": 0,
  "metadata": {
    "colab": {
      "name": "7_Textrank.ipynb",
      "provenance": [],
      "collapsed_sections": [],
      "authorship_tag": "ABX9TyPEulSadd/LIKdSCh1LKrWs",
      "include_colab_link": true
    },
    "kernelspec": {
      "name": "python3",
      "display_name": "Python 3"
    },
    "language_info": {
      "name": "python"
    }
  },
  "cells": [
    {
      "cell_type": "markdown",
      "metadata": {
        "id": "view-in-github",
        "colab_type": "text"
      },
      "source": [
        "<a href=\"https://colab.research.google.com/github/fjme95/algebra-lineal-para-machine-learning/blob/main/7_Textrank.ipynb\" target=\"_parent\"><img src=\"https://colab.research.google.com/assets/colab-badge.svg\" alt=\"Open In Colab\"/></a>"
      ]
    },
    {
      "cell_type": "markdown",
      "metadata": {
        "id": "ccYq5VAqlz-T"
      },
      "source": [
        "## Implementación de TextRank para la obtención de resúmenes"
      ]
    },
    {
      "cell_type": "markdown",
      "metadata": {
        "id": "QkXRhT3nlsuC"
      },
      "source": [
        "En este Notebook se implementará TextRank para obtener un resumen con las oraciones clave de todo un texto."
      ]
    },
    {
      "cell_type": "markdown",
      "metadata": {
        "id": "CDdVl3jFU6pW"
      },
      "source": [
        "# Dependencias"
      ]
    },
    {
      "cell_type": "code",
      "metadata": {
        "id": "m5panRZIU04F"
      },
      "source": [
        "%%capture\n",
        "!pip install wikipedia git+https://github.com/neuml/txtai#egg=txtai[pipeline]"
      ],
      "execution_count": 1,
      "outputs": []
    },
    {
      "cell_type": "code",
      "metadata": {
        "id": "S_urJE6MrUmm"
      },
      "source": [
        "import re\n",
        "\n",
        "import pandas as pd\n",
        "import numpy as np\n",
        "import scipy.linalg as splinalg\n",
        "\n",
        "import nltk\n",
        "from nltk.tokenize import sent_tokenize, word_tokenize\n",
        "from nltk.corpus import stopwords\n",
        "from nltk.stem import PorterStemmer\n",
        "\n",
        "import wikipedia\n",
        "\n",
        "from txtai.pipeline import Translation\n",
        "\n"
      ],
      "execution_count": 2,
      "outputs": []
    },
    {
      "cell_type": "code",
      "metadata": {
        "colab": {
          "base_uri": "https://localhost:8080/"
        },
        "id": "UxckIS4y1EMR",
        "outputId": "ae2d4799-43fd-48b6-dceb-d315195bc732"
      },
      "source": [
        "nltk.download(\"punkt\")\n",
        "nltk.download('stopwords')"
      ],
      "execution_count": 3,
      "outputs": [
        {
          "output_type": "stream",
          "name": "stderr",
          "text": [
            "[nltk_data] Downloading package punkt to /root/nltk_data...\n",
            "[nltk_data]   Package punkt is already up-to-date!\n",
            "[nltk_data] Downloading package stopwords to /root/nltk_data...\n",
            "[nltk_data]   Package stopwords is already up-to-date!\n"
          ]
        },
        {
          "output_type": "execute_result",
          "data": {
            "text/plain": [
              "True"
            ]
          },
          "metadata": {},
          "execution_count": 3
        }
      ]
    },
    {
      "cell_type": "code",
      "metadata": {
        "id": "Ov9GnghY7iv1"
      },
      "source": [
        "# Radicalizador\n",
        "stemmer = PorterStemmer()\n",
        "\n",
        "# Palabras de paro\n",
        "cached_stopwords = stopwords.words('english')\n",
        "cached_stopwords[:10]\n",
        "\n",
        "# Traductor\n",
        "translate = Translation()"
      ],
      "execution_count": 4,
      "outputs": []
    },
    {
      "cell_type": "markdown",
      "metadata": {
        "id": "WyYn_meLU_SE"
      },
      "source": [
        "# Datos"
      ]
    },
    {
      "cell_type": "markdown",
      "metadata": {
        "id": "rxh6OST4lp95"
      },
      "source": [
        "Los datos que ocuparemos serán el texto de páginas de Wikipedia. Descargaremos el texto ocupando el módulo [```wikipedia```](https://pypi.org/project/wikipedia/) que es un \"wrapper\" del API de Wikipedia. A este texto lo dividiremos en oraciones, procesaremos cada oración, radicalizaremos cada palabra, y aplicaremos TextRank para obtener las oraciones más importantes de todo el documento."
      ]
    },
    {
      "cell_type": "markdown",
      "metadata": {
        "id": "qpg8u735nGUj"
      },
      "source": [
        "## Lectura de los datos"
      ]
    },
    {
      "cell_type": "markdown",
      "metadata": {
        "id": "ADUkdhJmnQK0"
      },
      "source": [
        "Descargamos un artículos de Wikipedia."
      ]
    },
    {
      "cell_type": "code",
      "metadata": {
        "colab": {
          "base_uri": "https://localhost:8080/"
        },
        "id": "JXH8g08gSHAO",
        "outputId": "12c5c03d-7c49-4957-bdf6-302a544f532a"
      },
      "source": [
        "wiki = wikipedia.page('Expropiación del petróleo en México')\n",
        "book = wiki.content\n",
        "print(book)"
      ],
      "execution_count": 5,
      "outputs": [
        {
          "output_type": "stream",
          "name": "stdout",
          "text": [
            "The Mexican oil expropriation (Spanish: expropiación petrolera) was the nationalization of all petroleum reserves, facilities, and foreign oil companies in Mexico on March 18, 1938.  In accordance with Article 27 of the Constitution of 1917, President Lázaro Cárdenas declared that all mineral and oil reserves found within Mexico belong to \"the nation\", i.e., the federal government. The Mexican government established a state-owned petroleum company, Petróleos Mexicanos, or PEMEX.  For a short period, this measure caused an international boycott of Mexican products in the following years, especially by the United States, the United Kingdom, and the Netherlands, but with the outbreak of World War II and the alliance between Mexico and the Allies, the disputes with private companies over compensation were resolved. The anniversary, March 18, is now a Mexican civic holiday.\n",
            "\n",
            "\n",
            "== Background ==\n",
            "\n",
            "On August 16, 1935, the Petroleum Workers Union of Mexico (Sindicato de Trabajadores Petroleros de la República Mexicana) was formed and one of the first actions was the writing of a lengthy draft contract transmitted to the petroleum companies demanding a 40-hour working week, a full salary paid in the event of sickness, and the payment of 65 million pesos towards benefits and wages. The foreign oil companies refused to sign the agreement, and counter offered with a payment of 14 million pesos toward wages and benefits.On November 3, 1937, the union demanded that the companies sign the collective agreement and on May 17, the union summoned a strike in case their demands were not met. On May 28 the strike became effective throughout the country.\n",
            "The petroleum workers' struggle was well regarded by the President and the population despite problems caused by the petroleum shortage. Due to these problems, the union accepted a lift of the strike on June 9, after the president urged them to present their case before the General Arbitration and Conciliation Board (Junta General de Conciliación y Arbitraje). In July, as instructed by the arbitration board, a commission of financial experts was formed that investigated the petroleum companies' finances, concluding that their profits easily permitted them to cover the demands of the workers. The report stated that just one company (El Aguila) had received annual profits of over 55 million pesos. The arbitration board concluded that the oil companies should pay 26 million pesos for wages and benefits to the workers. \n",
            "The companies, however, insisted the demands would cripple production and bankrupt them, and refused to pay. The president once again intervened to mediate between the parties, and met with oil company representatives at the National Palace on September 2. In this meeting, one of the El Aguila representatives took issue with the description of it being a foreign company, and stated that El Aguila was a Mexican company. In response, Jesus Silva Herzog (present in the meeting) responded with a financial newspaper from London that cited a report from the Royal Dutch Shell of 1928: \"Our Mexican subsidiary, Oil Company El Aguila, has obtained good returns during the last fiscal cycle.\" It was also explained that El Aguila de Mexico would set the price of an oil barrel at 1.96 when sold to The Eagle Shipping company. This price was below the market value of US$3.19 per barrel. This way profits would be hidden to the Mexican treasury, and taxes were saved.\n",
            "\n",
            "But, on December 8, the companies hired other unemployed workers and had not responded to the arbitration board. On December 18, 1937, the board gave a verdict in favor of the union by means of a \"laudo\" (binding judgment in arbitration) which demanded that the companies fulfil the requirements of the petitions and pay 26 million pesos in lost salaries. The petroleum companies initiated a lawsuit on January 2, 1938 before the Mexican Supreme Court to protect their property from the labor union and arbitration board, which denied the request.\n",
            "Consequently, the foreign companies rebelled against the imposed contract, and the maximum Judicial Authority responded by rendering a decision on March 1, giving the companies until March 7 to pay the 26 million pesos penalty.\n",
            "In 1935, all companies in the business of extraction, processing, and exporting of oil in Mexico were foreign companies with foreign capital. These companies attempted to block the creation of labor unions and used legal and illegal tactics to do so. However, the creation of individual unions within each company was made possible, but work conditions differed from one another.\n",
            "On December 27, 1935, the Sindicato Único de Trabajadores Petroleros was created, despite the legal opposition in the states of Tamaulipas and Veracruz. On January 29, 1936, this union joined the Comité de Defensa Proletaria (\"Committee of Proletarian Defense\") which would become in February the Confederation of Mexican Workers (CTM). On July 20, the union celebrated its first convention, in which it was proposed a project of general contracts for each oil company and it was decided on a strike to push towards an agreement.\n",
            "Lázaro Cárdenas intervened between the union and the oil companies in order to force an agreement on the contract. The strike was delayed for six months, but the companies never agreed to the contract and on May 28, the strike took place. The entire country was paralyzed for 12 days, with consumers unable to buy gasoline. Cárdenas convinced the union to end the strike until a decision by the companies could be made. However, the companies declared themselves unable to meet the demands because of financial problems. Cárdenas ordered an investigation and on August 3, and the findings were that the Mexican oil industry produced higher returns than the U.S. oil industry.\n",
            "\n",
            "\n",
            "== Legal conflicts ==\n",
            "After the publication of the findings, the oil companies threatened to leave Mexico and take all of their capital with them. The government entity in charge of the conflict between these companies and the union, the Junta Federal de Conciliación y Arbitraje (Federal Conciliation and Arbitration Board), was not able to make a decision quickly and the union declared a 24-hour strike in protest on December 8.\n",
            "On December 18, the Arbitration Board declared in favor of the union. The oil companies had to pay 26 million pesos of wages lost because of the strike, but they appealed to the Supreme Court. The Supreme Court then rejected the appeal and ordered them to raise salaries and improve working conditions for the union members. The oil companies protested this decision and President Cárdenas mediated a compromise; the union would accept 26 million pesos. Cárdenas offered to end the strike if the oil companies paid the sum. According to witnesses of this meeting, representatives of the oil companies asked the President \"Who can guarantee that the strike will be over\", to which the President replied \"I, the President of the Republic.\" After the businessmen asked with sarcasm \"You?\" President Cárdenas ended the meeting saying \"Sirs, we are finished!\". Cárdenas moved to expropriate the oil industry and create a national oil company, PEMEX.\n",
            "\n",
            "\n",
            "== Oil Expropriation Day, March 18, 1938 ==\n",
            "On March 18, 1938 President Cárdenas embarked on the expropriation of all oil resources and facilities by the state, nationalizing the U.S. and Anglo-Dutch (Mexican Eagle Petroleum Company) operating companies. Two hours before informing his cabinet of his decision, he made the announcement on the radio to the rest of the country. Five days later, a crowd of 200,000 (according to the press) rallied in the zócalo in support of Cárdenas's action. On April 12, 1938, a crowd of thousands of all classes gathered in front of the Palacio de Bellas Artes to make donations to pay the debt to foreign companies. Donations varied from chickens to jewelry. (see photo).\n",
            "On June 7, 1938, President Cárdenas issued a decree creating Petróleos Mexicanos (PEMEX), with exclusive rights over exploration, extraction, refining, and commercialization of oil in Mexico. On June 20, PEMEX started operations.\n",
            "\n",
            "\n",
            "== Opposition ==\n",
            "\n",
            "\n",
            "=== International ===\n",
            "In retaliation, the oil companies initiated a public relations campaign against Mexico, urging people to stop buying Mexican goods and lobbying to embargo U.S. technology to Mexico. Many foreign governments closed their markets to Mexican oil, hoping that PEMEX would drown in its own oil. However, the U.S. government of Franklin Delano Roosevelt had issued the Good Neighbor Policy, aiming to recalibrate U.S.-Latin American relations; the U.S. government did not intervene to aid U.S. oil companies affected by the Mexican  expropriation. Mexican finances suffered due to the boycott, the Mexican peso was devalued, and an immediate 20% increase in prices was suffered by the Mexican population. In a trip to New York to negotiate with oil companies,  Mexican treasury minister, Suarez, serendipitously met an American intermediate, William Rhodes Davis from Davis Oil Company, who had a refinery in Europe, and asked for a collaboration. Davis mediated between Mexico and Germany to a barter agreement where Mexico would give crude oil to Davis, who then would provide refined oil products to Germany in exchange for machinery to Mexico. By 1940, Mexico had an agreement with the American Sinclair Oil Corporation to sell crude oil to the U.S, and the full-scale war in Europe guaranteed that Mexican oil would have international customers. PEMEX developed into one of the largest oil companies in the world and helped Mexico become the world's seventh-largest oil exporter.\n",
            "\n",
            "\n",
            "=== Domestic ===\n",
            "Saturnino Cedillo, a cacique from San Luis Potosí and former Secretary of Agriculture, showed the strongest opposition to Cárdenas's measures. Cedillo had in the past supported Cárdenas in a conflict with ex-President Plutarco Elías Calles, but disagreed with his plan of reforms. On May 15 of the same year, the state congress of San Luis Potosí issued a decree where it refused to recognize Cárdenas as President and declared that the expropiación petrolera did not benefit the economy of Mexico. Cárdenas did not consider this a serious threat and minimized efforts to suppress the rebellion, instead choosing persuasion. The US government did not support the rebellion because it was more concerned that fascist and communist movements from Europe would spread to Mexico.\n",
            "The key to the success of the measures taken by Cárdenas was not just to control the opposition, but to keep afloat an industry in the absence of qualified personnel. The government had to depend on the Sindicato de Trabajadores Petroleros de la República Mexicana (STPRM, or the Union of Oil Workers of the Mexican Republic) to resolve disagreements over the management of oil resources, and deal with threats of strikes and sabotage. In spite of these and technical challenges, local workers who replaced the foreign technicians were successful in making the new nationalized oil industry work. Josephus Daniels, U.S. ambassador to Mexico, explained to President Franklin D. Roosevelt and Secretary of State Cordell Hull that Cárdenas' reforms could not be undone, since his position as president and the position of PEMEX were secure.\n",
            "Critics of the expropriation point out that since Pemex took control of the nation's petroleum, the company has been rife with corruption through every administration since that of Cárdenas, including both the PRI (Partido Revolucionario Institucional) and the PAN (Partido Accion Nacional). In addition, the casus belli of the expropriation was a wage hike of 26 million pesos. In fact, in the aftermath, not only was the promised wage hike postponed indefinitely, wages were actually cut.\n",
            "\n",
            "\n",
            "== See also ==\n",
            "\n",
            "Nationalization of oil supplies\n",
            "Economic nationalism\n",
            "Petroleum industry in Mexico\n",
            "\n",
            "\n",
            "== References ==\n",
            "\n",
            "\n",
            "== Further reading ==\n",
            "Brown, Jonathan C. Oil and Revolution in Mexico. Berkeley: University of California Press 1993.\n",
            "Brown, Jonathan C. and Alan Knight, eds.  The Mexican Petroleum Industry in the Twentieth Century. Austin: University of Texas Press 1992.\n",
            "Gordon, Wendell. The Expropriation of Foreign-Owned Property in Mexico (1941)\n",
            "Hall, Linda B. Oil, Banks, and Politics: the United States and Postrevolutionary Mexico, 1917-1924. Austin: University of Texas Press 1995.\n",
            "Jayne, Catherine E. Oil, war, and Anglo-American relations: American and British reactions to Mexico's expropriation of foreign oil properties, 1937-1941 (Praeger, 2001)\n",
            "Maurer, Noel. \"The empire struck back: sanctions and compensation in the Mexican oil expropriation of 1938.\" Journal of Economic History 71.03 (2011): 590–615. online\n",
            "Meyer, Lorenzo. Mexico and the United States in the oil controversy, 1917–1942 (University of Texas Press, 2014)\n",
            "Rippy, Merrill. Oil and the Mexican Revolution. Leiden: Brill 1972.\n",
            "Wirth, John D., ed. Latin American Oil Companies and the Politics of Energy. Lincoln: University of Nebraska Press 1985.\n"
          ]
        }
      ]
    },
    {
      "cell_type": "markdown",
      "metadata": {
        "id": "V9o2M4-23kIo"
      },
      "source": [
        "## Procesamiento"
      ]
    },
    {
      "cell_type": "markdown",
      "metadata": {
        "id": "cQTst86Zm5Ew"
      },
      "source": [
        "Dividimos el texto en oraciones."
      ]
    },
    {
      "cell_type": "code",
      "metadata": {
        "colab": {
          "base_uri": "https://localhost:8080/"
        },
        "id": "UudewwgC0npT",
        "outputId": "b139a334-270a-4020-e3a2-9ce2b4fefe65"
      },
      "source": [
        "sentences = [x for x in sent_tokenize(book)]\n",
        "print(f\"# oraciones: {len(sentences)}\")\n",
        "for sentence in sentences[:3]:\n",
        "    print(sentence)\n",
        "    print()\n",
        "    print(\"...Fin de la oración...\")\n",
        "    print()\n"
      ],
      "execution_count": 6,
      "outputs": [
        {
          "output_type": "stream",
          "name": "stdout",
          "text": [
            "# oraciones: 94\n",
            "The Mexican oil expropriation (Spanish: expropiación petrolera) was the nationalization of all petroleum reserves, facilities, and foreign oil companies in Mexico on March 18, 1938.\n",
            "\n",
            "...Fin de la oración...\n",
            "\n",
            "In accordance with Article 27 of the Constitution of 1917, President Lázaro Cárdenas declared that all mineral and oil reserves found within Mexico belong to \"the nation\", i.e., the federal government.\n",
            "\n",
            "...Fin de la oración...\n",
            "\n",
            "The Mexican government established a state-owned petroleum company, Petróleos Mexicanos, or PEMEX.\n",
            "\n",
            "...Fin de la oración...\n",
            "\n"
          ]
        }
      ]
    },
    {
      "cell_type": "markdown",
      "metadata": {
        "id": "VX8wBpNYnUV1"
      },
      "source": [
        "convertimos a minúsculas, eliminamos stopwords, eliminamos signos de puntuación y radicalizamos."
      ]
    },
    {
      "cell_type": "code",
      "metadata": {
        "colab": {
          "base_uri": "https://localhost:8080/"
        },
        "id": "HhJPqlaB5fh6",
        "outputId": "459c4c53-3387-4b8d-e8b4-dc6e4b09fcd4"
      },
      "source": [
        "sent_low = [[stemmer.stem(re.sub('[^a-z]', \"\", word.lower())) for word in word_tokenize(sentence) if word not in cached_stopwords and len(word) > 2] for sentence in sentences]\n",
        "sent_low[3]"
      ],
      "execution_count": 7,
      "outputs": [
        {
          "output_type": "execute_result",
          "data": {
            "text/plain": [
              "['for',\n",
              " 'short',\n",
              " 'period',\n",
              " 'measur',\n",
              " 'caus',\n",
              " 'intern',\n",
              " 'boycott',\n",
              " 'mexican',\n",
              " 'product',\n",
              " 'follow',\n",
              " 'year',\n",
              " 'especi',\n",
              " 'unit',\n",
              " 'state',\n",
              " 'unit',\n",
              " 'kingdom',\n",
              " 'netherland',\n",
              " 'outbreak',\n",
              " 'world',\n",
              " 'war',\n",
              " 'allianc',\n",
              " 'mexico',\n",
              " 'alli',\n",
              " 'disput',\n",
              " 'privat',\n",
              " 'compani',\n",
              " 'compens',\n",
              " 'resolv']"
            ]
          },
          "metadata": {},
          "execution_count": 7
        }
      ]
    },
    {
      "cell_type": "markdown",
      "metadata": {
        "id": "NuWhLrCHngIg"
      },
      "source": [
        "# TextRank"
      ]
    },
    {
      "cell_type": "markdown",
      "metadata": {
        "id": "7FqpDqoADzub"
      },
      "source": [
        "Construimos la matriz de adyacencias/similitud A entre las oraciones, tomando el número de palabras que están en ambas como la similitud entre las dos oraciones."
      ]
    },
    {
      "cell_type": "code",
      "metadata": {
        "colab": {
          "base_uri": "https://localhost:8080/"
        },
        "id": "9-8lePsd8th-",
        "outputId": "c3c7ce1f-47bb-4828-ab6f-05185b207b54"
      },
      "source": [
        "A = np.zeros((len(sent_low), len(sent_low)))\n",
        "\n",
        "for i in range(len(sentences)):\n",
        "    if i % 100 == 0:\n",
        "        print(i, end=\", \")\n",
        "        if i % 1000 == 0:\n",
        "            print()\n",
        "    for j in range(i+1, len(sentences)):\n",
        "        # La simillitud entre oraciones va a ser el número de palabras que tienen en común\n",
        "        A[i][j] = A[j][i] = len([x for x in sentences[i] if x in sentences[j]])"
      ],
      "execution_count": 8,
      "outputs": [
        {
          "output_type": "stream",
          "name": "stdout",
          "text": [
            "0, \n"
          ]
        }
      ]
    },
    {
      "cell_type": "markdown",
      "metadata": {
        "id": "p9s5rI9roNPv"
      },
      "source": [
        "Así es como se ve un fragmento de la matriz A."
      ]
    },
    {
      "cell_type": "code",
      "metadata": {
        "colab": {
          "base_uri": "https://localhost:8080/"
        },
        "id": "uvFYbKI48tdr",
        "outputId": "855382dc-d31c-4553-c682-ecda2db8b563"
      },
      "source": [
        "A[:5, :5]"
      ],
      "execution_count": 9,
      "outputs": [
        {
          "output_type": "execute_result",
          "data": {
            "text/plain": [
              "array([[  0., 164., 167., 169., 151.],\n",
              "       [164.,   0., 181., 186., 160.],\n",
              "       [167., 181.,   0.,  90.,  77.],\n",
              "       [169., 186.,  90.,   0., 270.],\n",
              "       [151., 160.,  77., 270.,   0.]])"
            ]
          },
          "metadata": {},
          "execution_count": 9
        }
      ]
    },
    {
      "cell_type": "markdown",
      "metadata": {
        "id": "OoJlPw_ToUdh"
      },
      "source": [
        "Normalizamos las columnas de A"
      ]
    },
    {
      "cell_type": "code",
      "metadata": {
        "colab": {
          "base_uri": "https://localhost:8080/"
        },
        "id": "8oNFWIjZ8tbP",
        "outputId": "b3e64d5a-ce6d-413b-da9c-bed046a62e2a"
      },
      "source": [
        "suma = np.sum(A, axis=0)\n",
        "A_norm = np.divide(A, suma, where=suma!=0)\n",
        "A_norm[:5, :5]"
      ],
      "execution_count": 10,
      "outputs": [
        {
          "output_type": "execute_result",
          "data": {
            "text/plain": [
              "array([[0.        , 0.01004348, 0.02120366, 0.0061283 , 0.02966601],\n",
              "       [0.01122058, 0.        , 0.02298121, 0.00674475, 0.03143418],\n",
              "       [0.01142583, 0.01108457, 0.        , 0.00326359, 0.0151277 ],\n",
              "       [0.01156267, 0.01139078, 0.01142712, 0.        , 0.05304519],\n",
              "       [0.01033114, 0.00979852, 0.00977654, 0.00979077, 0.        ]])"
            ]
          },
          "metadata": {},
          "execution_count": 10
        }
      ]
    },
    {
      "cell_type": "markdown",
      "metadata": {
        "id": "YIdFEIv2KlDT"
      },
      "source": [
        "Se crea el vector de TextRank con unos y se itera hasta que converja. Es decir, hasta que obtengamos $\\Pi$ tal que $$\\Pi = A~\\Pi$$ "
      ]
    },
    {
      "cell_type": "code",
      "metadata": {
        "colab": {
          "base_uri": "https://localhost:8080/"
        },
        "id": "LUfmpayQKaCA",
        "outputId": "adec1afb-2a3e-449a-f738-042b280a6da4"
      },
      "source": [
        "tol = 1e-7\n",
        "\n",
        "PI_ = np.ones(A_norm.shape[1])\n",
        "    \n",
        "i = 0\n",
        "while True:\n",
        "    pi_ = A_norm.dot(PI_)\n",
        "    print(i, abs(PI_- pi_).sum()) \n",
        "    if np.allclose(PI_, pi_, tol):\n",
        "        break\n",
        "    i += 1\n",
        "    PI_ = pi_"
      ],
      "execution_count": 11,
      "outputs": [
        {
          "output_type": "stream",
          "name": "stdout",
          "text": [
            "0 25.119042342061313\n",
            "1 3.9834907908161314\n",
            "2 0.674362222598042\n",
            "3 0.11271087281569214\n",
            "4 0.019067876555544372\n",
            "5 0.0032164628903874615\n",
            "6 0.0005432400722329978\n",
            "7 9.173100230158715e-05\n",
            "8 1.549020578212046e-05\n",
            "9 2.6160075131675953e-06\n"
          ]
        }
      ]
    },
    {
      "cell_type": "markdown",
      "metadata": {
        "id": "QnTTffzbv2G0"
      },
      "source": [
        "Alternativamente, podemos obtener los eigenvectores izquierdos de nuestra matriz A_norm. Los valores de PageRank corresponden al vector de probabilidades del estado estacionario de la matriz A que a su vez es el eigenvector izquierdo con eigenvalor asociado 1.\n",
        "\n",
        "$$\\Pi = \\Pi A^T$$"
      ]
    },
    {
      "cell_type": "code",
      "metadata": {
        "id": "2fjuQ_v_vE-O"
      },
      "source": [
        "_, vecs = splinalg.eig(A_norm.T, left=True, right=False)"
      ],
      "execution_count": 12,
      "outputs": []
    },
    {
      "cell_type": "code",
      "metadata": {
        "id": "Qn60EkbGzARy"
      },
      "source": [
        "pi_ = vecs[:, 0]"
      ],
      "execution_count": 13,
      "outputs": []
    },
    {
      "cell_type": "markdown",
      "metadata": {
        "id": "Y4XCjrheqzkz"
      },
      "source": [
        "Obtenemos los índices de los k valores más grandes en $\\Pi$ y los usamos para obtener las oraciones más relevantes."
      ]
    },
    {
      "cell_type": "code",
      "metadata": {
        "id": "4nzzWurm0_O2",
        "colab": {
          "base_uri": "https://localhost:8080/"
        },
        "outputId": "e29f99e9-9686-4e8c-9a87-9764da069995"
      },
      "source": [
        "k = 3\n",
        "pi_.argsort()[-k:][::-1]"
      ],
      "execution_count": 14,
      "outputs": [
        {
          "output_type": "execute_result",
          "data": {
            "text/plain": [
              "array([5, 3, 6])"
            ]
          },
          "metadata": {},
          "execution_count": 14
        }
      ]
    },
    {
      "cell_type": "code",
      "metadata": {
        "id": "RryDhNr5OfJ5"
      },
      "source": [
        "summary = [sentences[idx] for idx in pi_.argsort()[-k:][::-1]]"
      ],
      "execution_count": 15,
      "outputs": []
    },
    {
      "cell_type": "markdown",
      "metadata": {
        "id": "DpekkaIIrFbJ"
      },
      "source": [
        "Por último, sólo queda ver qué considero TextRank como las oraciones más importantes."
      ]
    },
    {
      "cell_type": "code",
      "metadata": {
        "colab": {
          "base_uri": "https://localhost:8080/"
        },
        "id": "wAqh4QdWOh1r",
        "outputId": "0bb7ebaa-d85b-455a-a46b-b1cbad195c3d"
      },
      "source": [
        "for bullet in summary:\n",
        "    print()\n",
        "    print(bullet)"
      ],
      "execution_count": 16,
      "outputs": [
        {
          "output_type": "stream",
          "name": "stdout",
          "text": [
            "\n",
            "== Background ==\n",
            "\n",
            "On August 16, 1935, the Petroleum Workers Union of Mexico (Sindicato de Trabajadores Petroleros de la República Mexicana) was formed and one of the first actions was the writing of a lengthy draft contract transmitted to the petroleum companies demanding a 40-hour working week, a full salary paid in the event of sickness, and the payment of 65 million pesos towards benefits and wages.\n",
            "\n",
            "For a short period, this measure caused an international boycott of Mexican products in the following years, especially by the United States, the United Kingdom, and the Netherlands, but with the outbreak of World War II and the alliance between Mexico and the Allies, the disputes with private companies over compensation were resolved.\n",
            "\n",
            "The foreign oil companies refused to sign the agreement, and counter offered with a payment of 14 million pesos toward wages and benefits.On November 3, 1937, the union demanded that the companies sign the collective agreement and on May 17, the union summoned a strike in case their demands were not met.\n"
          ]
        }
      ]
    },
    {
      "cell_type": "markdown",
      "metadata": {
        "id": "xN21ZGHrrKY4"
      },
      "source": [
        "Podemos traducir la salida."
      ]
    },
    {
      "cell_type": "code",
      "metadata": {
        "colab": {
          "base_uri": "https://localhost:8080/"
        },
        "id": "7vpw3FScPo2L",
        "outputId": "b0052cbb-c3d7-425f-a35b-29e674cb6dfe"
      },
      "source": [
        "for bullet in summary:\n",
        "    print()\n",
        "    print(translate(bullet, \"es\"))"
      ],
      "execution_count": 17,
      "outputs": [
        {
          "output_type": "stream",
          "name": "stdout",
          "text": [
            "\n",
            "== Antecedentes ==El 16 de agosto de 1935, se formó el Sindicato de Trabajadores Petroleros de la República Mexicana y una de las primeras acciones fue la redacción de un largo borrador de contrato transmitido a las compañías petroleras exigiendo una semana laboral de 40 horas, un salario completo pagado en caso de enfermedad y el pago de 65 millones de pesos por beneficios y salarios.\n",
            "\n",
            "Durante un corto período, esta medida provocó un boicot internacional a los productos mexicanos en los años siguientes, especialmente por parte de los Estados Unidos, el Reino Unido y los Países Bajos, pero con el estallido de la Segunda Guerra Mundial y la alianza entre México y los Aliados, se resolvieron las disputas con empresas privadas por la compensación.\n",
            "\n",
            "El 3 de noviembre de 1937, el sindicato exigió a las empresas que firmaran el convenio colectivo y el 17 de mayo, el sindicato convocó una huelga en caso de que no se cumplieran sus demandas.\n"
          ]
        }
      ]
    },
    {
      "cell_type": "markdown",
      "metadata": {
        "id": "sroGaAJSrNER"
      },
      "source": [
        "# Función para crear resúmenes"
      ]
    },
    {
      "cell_type": "markdown",
      "metadata": {
        "id": "o8TBd5q7rSmS"
      },
      "source": [
        "Podemos condensar todo lo anterior en una función que reciba texto y nos regrese las oraciones más relevantes de acuerdo a TextRank."
      ]
    },
    {
      "cell_type": "code",
      "metadata": {
        "id": "ACFufGGmXwCP"
      },
      "source": [
        "def summary(text, k, to_spanish = True, tol = 1e-5, d = .15, eig = False):\n",
        "    print(\"Paso 1. Obteniendo oraciones\")\n",
        "    sentences = [x for x in sent_tokenize(text)]\n",
        "\n",
        "    print(f\"# oraciones: {len(sentences)}\")\n",
        "    \n",
        "    print(\"Paso 2. Procesando texto\")\n",
        "    sent_low = [[stemmer.stem(re.sub('[^a-z]', \"\", word.lower())) for word in word_tokenize(sentence) if word not in cached_stopwords and len(word) > 2] for sentence in sentences]\n",
        "    \n",
        "    print(\"Paso 3. Creando matriz de similitud\")\n",
        "    A = np.zeros((len(sent_low), len(sent_low)))\n",
        "    \n",
        "    for i in range(len(sentences)):\n",
        "        for j in range(i+1, len(sentences)):\n",
        "            # La simillitud entre oraciones va a ser el número de palabras que tienen en común\n",
        "            A[i][j] = A[j][i] = len([x for x in sentences[i] if x in sentences[j]])\n",
        "\n",
        "    print(\"Paso 4. Normalizando matriz de similitud\")   \n",
        "    suma = np.sum(A, axis=0)\n",
        "    A_norm = np.divide(A, suma, where=suma!=0)\n",
        "    \n",
        "    print(\"Paso 5. Ejecutando TextRank\")\n",
        "    if eig:\n",
        "        vals, vecs = splinalg.eig(A_norm.T, left=True, right=False)\n",
        "        pi_ = vecs[:, 0]\n",
        "    else:\n",
        "        PI_ = np.ones(A_norm.shape[1])\n",
        "        \n",
        "        while True:\n",
        "            pi_ = A_norm.dot(PI_)\n",
        "            if np.allclose(PI_, pi_, tol):\n",
        "                break\n",
        "            PI_ = pi_\n",
        "\n",
        "    print(\"\\tPaso 5. Terminado\")\n",
        "\n",
        "    if not to_spanish:\n",
        "        return [sentences[idx] for idx in pi_.argsort()[-k:][::-1]]\n",
        "\n",
        "    print(\"Paso 6. Traduciendo\")\n",
        "    return [translate(sentences[idx], \"es\") for idx in pi_.argsort()[-k:][::-1]]\n",
        "\n",
        "def print_bullet_points(bullet_points):\n",
        "    for point in bullet_points:\n",
        "        print(f\"- {point}\\n\")\n"
      ],
      "execution_count": 39,
      "outputs": []
    },
    {
      "cell_type": "code",
      "metadata": {
        "colab": {
          "base_uri": "https://localhost:8080/"
        },
        "id": "ShmZc9RaYuh3",
        "outputId": "67add6a2-333a-406b-bcfc-5e44f086b03d"
      },
      "source": [
        "wiki = wikipedia.page('Automatic summarization')\n",
        "text = wiki.content\n",
        "bullet_points = summary(text, 5, False, eig = False)"
      ],
      "execution_count": 47,
      "outputs": [
        {
          "output_type": "stream",
          "name": "stdout",
          "text": [
            "Paso 1. Obteniendo oraciones\n",
            "# oraciones: 312\n",
            "Paso 2. Procesando texto\n",
            "Paso 3. Creando matriz de similitud\n",
            "Paso 4. Normalizando matriz de similitud\n",
            "Paso 5. Ejecutando TextRank\n",
            "\tPaso 5. Terminado\n"
          ]
        }
      ]
    },
    {
      "cell_type": "code",
      "metadata": {
        "colab": {
          "base_uri": "https://localhost:8080/"
        },
        "id": "14--hdHdZNkW",
        "outputId": "51449378-540a-4497-dbff-c8c7cc0f0b48"
      },
      "source": [
        "print_bullet_points(bullet_points)"
      ],
      "execution_count": 48,
      "outputs": [
        {
          "output_type": "stream",
          "name": "stdout",
          "text": [
            "- Consider the example text from a news article:\n",
            "\n",
            "\"The Army Corps of Engineers, rushing to meet President Bush's promise to protect New Orleans by the start of the 2006 hurricane season, installed defective flood-control pumps last year despite warnings from its own expert that the equipment would fail during a storm, according to documents obtained by The Associated Press\".A keyphrase extractor might select \"Army Corps of Engineers\", \"President Bush\", \"New Orleans\", and \"defective flood-control pumps\" as keyphrases.\n",
            "\n",
            "- Text summarization finds the most informative sentences in a document; various methods of image summarization are the subject of ongoing research, with some looking to display the most representative images from a given collection or generating a video; video summarization extracts the most important frames from the video content.\n",
            "\n",
            "- For text, extraction is analogous to the process of skimming, where the summary (if available), headings and subheadings, figures, the first and last paragraphs of a section, and optionally the first and last sentences in a paragraph are read before one chooses to read the entire document in detail.\n",
            "\n",
            "- Such transformation, however, is computationally much more challenging than extraction, involving both natural language processing and often a deep understanding of the domain of the original text in cases where the original document relates to a special field of knowledge.\n",
            "\n",
            "- They can enable document browsing by providing a short summary, improve information retrieval (if documents have keyphrases assigned, a user could search by keyphrase to produce more reliable hits than a full-text search), and be employed in generating index entries for a large text corpus.\n",
            "\n"
          ]
        }
      ]
    },
    {
      "cell_type": "code",
      "metadata": {
        "colab": {
          "base_uri": "https://localhost:8080/"
        },
        "id": "z6PnPJkMZ_E9",
        "outputId": "6a1f0a74-21f7-47b9-e098-da6ff8bb0269"
      },
      "source": [
        "!wget https://www.gutenberg.org/files/84/84-0.txt -O book.txt"
      ],
      "execution_count": 51,
      "outputs": [
        {
          "output_type": "stream",
          "name": "stdout",
          "text": [
            "--2021-10-15 08:41:14--  https://www.gutenberg.org/files/84/84-0.txt\n",
            "Resolving www.gutenberg.org (www.gutenberg.org)... 152.19.134.47, 2610:28:3090:3000:0:bad:cafe:47\n",
            "Connecting to www.gutenberg.org (www.gutenberg.org)|152.19.134.47|:443... connected.\n",
            "HTTP request sent, awaiting response... 200 OK\n",
            "Length: 448821 (438K) [text/plain]\n",
            "Saving to: ‘book.txt’\n",
            "\n",
            "book.txt            100%[===================>] 438.30K  1.17MB/s    in 0.4s    \n",
            "\n",
            "2021-10-15 08:41:15 (1.17 MB/s) - ‘book.txt’ saved [448821/448821]\n",
            "\n"
          ]
        }
      ]
    },
    {
      "cell_type": "code",
      "metadata": {
        "colab": {
          "base_uri": "https://localhost:8080/"
        },
        "id": "meluoUwsaDSK",
        "outputId": "bca0320d-3872-4661-99c8-81b044f497f8"
      },
      "source": [
        "with open(\"book.txt\") as f:\n",
        "    book_raw = f.read()\n",
        "print(book_raw[0:1000])"
      ],
      "execution_count": 54,
      "outputs": [
        {
          "output_type": "stream",
          "name": "stdout",
          "text": [
            "﻿The Project Gutenberg eBook of Frankenstein, by Mary Wollstonecraft (Godwin) Shelley\n",
            "\n",
            "This eBook is for the use of anyone anywhere in the United States and\n",
            "most other parts of the world at no cost and with almost no restrictions\n",
            "whatsoever. You may copy it, give it away or re-use it under the terms\n",
            "of the Project Gutenberg License included with this eBook or online at\n",
            "www.gutenberg.org. If you are not located in the United States, you\n",
            "will have to check the laws of the country where you are located before\n",
            "using this eBook.\n",
            "\n",
            "Title: Frankenstein\n",
            "       or, The Modern Prometheus\n",
            "\n",
            "Author: Mary Wollstonecraft (Godwin) Shelley\n",
            "\n",
            "Release Date: 31, 1993 [eBook #84]\n",
            "[Most recently updated: November 13, 2020]\n",
            "\n",
            "Language: English\n",
            "\n",
            "Character set encoding: UTF-8\n",
            "\n",
            "Produced by: Judith Boss, Christy Phillips, Lynn Hanninen, and David Meltzer. HTML version by Al Haines.\n",
            "Further corrections by Menno de Leeuw.\n",
            "\n",
            "*** START OF THE PROJECT GUTENBERG EBOOK FRANKENSTEIN ***\n",
            "\n",
            "\n",
            "\n",
            "\n",
            "Frankenstein;\n",
            "\n",
            "or, the Modern Pro\n"
          ]
        }
      ]
    },
    {
      "cell_type": "code",
      "metadata": {
        "colab": {
          "base_uri": "https://localhost:8080/"
        },
        "id": "ghILIorhaQWp",
        "outputId": "76565579-17aa-4c4c-8168-b8995db51cf1"
      },
      "source": [
        "bullet_points = summary(book_raw, 5, False, eig = True)"
      ],
      "execution_count": null,
      "outputs": [
        {
          "output_type": "stream",
          "name": "stdout",
          "text": [
            "Paso 1. Obteniendo oraciones\n",
            "# oraciones: 3196\n",
            "Paso 2. Procesando texto\n",
            "Paso 3. Creando matriz de similitud\n"
          ]
        }
      ]
    },
    {
      "cell_type": "code",
      "metadata": {
        "id": "7xh7Q-Cnagx5"
      },
      "source": [
        "print_bullet_points(bullet_points)"
      ],
      "execution_count": null,
      "outputs": []
    },
    {
      "cell_type": "markdown",
      "metadata": {
        "id": "FZkOKPyqbPUy"
      },
      "source": [
        "# Ejercicios"
      ]
    },
    {
      "cell_type": "markdown",
      "metadata": {
        "id": "8FceaxoTbVgN"
      },
      "source": [
        "## Matriz de similitud entre oraciones\n",
        "\n",
        "Para la similitud entre las oraciones se uso el número de palabras que aparecen en ambas. **Reemplazar por similitud coseno** y comparar los resultados.\n",
        "\n",
        "Un muy buen primer acercamiento podría ser ocupando Latent Semantic Analysis y calcular la similitud coseno entre todos los documentos.\n",
        "\n",
        "Si tienen una DataFrame con las columnas ```[id_documento_1, id_documento_2, similitud]```, usar la función [```pandas.DataFrame.unstack```](https://pandas.pydata.org/docs/reference/api/pandas.DataFrame.unstack.html) puede ayudar a crear la matriz de similitud.\n",
        "\n",
        "\n"
      ]
    },
    {
      "cell_type": "markdown",
      "metadata": {
        "id": "HqBKwF5MfShn"
      },
      "source": [
        "## Idioma\n",
        "\n",
        "Este ejemplo esta hecho para texto en inglés por las stopwords que se usan y el radicalizador (PorterStemmer). Hacer los cambios necesarios para que reciba textos en español.\n",
        "\n",
        "Esto es, cambiar las stopwords (nltk tiene stopwords en español) y el radicalizador (Pista: ```nltk.stemmer``` tiene más radicalizadores y uno de ellos tienen un algoritmo para el español)"
      ]
    },
    {
      "cell_type": "markdown",
      "metadata": {
        "id": "zJt0u90fgAWH"
      },
      "source": [
        "## Oraciones vs. Palabras\n",
        "\n",
        "En este Notebook ocupamos las oraciones para obtener el resumen, de haber ocupado las palabras, de TextRank obtendríamos las palabras clave del texto. \n",
        "\n",
        "Implementar TextRank con palabras. Para la matriz de similitud (o adyacencias), se pueden ligar las palabras que son consecutivas o definir una ventana de k palabras consecutivas en cada oración (parecido a skip-gram) y ligar todas estas palabras. En este caso, la matriz A tendría la dimensión del vocabulario (lista de palabras únicas) y tendría un 1 si las palabras están ligadas.\n",
        "\n",
        "Una alternativa más sería ocupar un embedding de palabras (e.g. word2vec) y calcular la similitud coseno entre los vectores de cada palabra para llenas a A.\n",
        "\n",
        "Después de eso, todo sería o mismo."
      ]
    },
    {
      "cell_type": "markdown",
      "metadata": {
        "id": "LdXDlhlAkkPt"
      },
      "source": [
        "## Resumen sobre un tema\n",
        "\n",
        "Aquí ocupamos sólo un documento para aplicarle TextRank. Podemos tener un corpus de documentos del mismo tema (e.g. noticias del caso de los 31 científicos) y aplicarlo para obtener los puntos importantes de todo el corpus.\n",
        "\n",
        "A la implementación actual no se le tiene que cambiar nada, sólo concatenar en una sola cadena de texto todo el corpus.\n",
        "\n",
        "Ejercicio: Construir un copus con 4 artículos sobre un tema de interés, concatenarlos y pasarlo como parámetro a la función ```summary```."
      ]
    },
    {
      "cell_type": "markdown",
      "metadata": {
        "id": "sRPeC_Mjre7_"
      },
      "source": [
        "## Mejorar la función ```summary```\n",
        "\n",
        "Podemos dividir el código de la función para que funcionen como módulos y permita cierta libertad a la hora de ejecutarse. Por ejemplo, podríamos tener varias funciones que calculen la matriz A de diferentes maneras y que dentro de ```summary``` se ejecute una de tantas de acuerdo a un parámetro de la función.\n",
        "\n",
        "Ejercicio: Crear funciones para cada paso de ```summary```"
      ]
    },
    {
      "cell_type": "markdown",
      "metadata": {
        "id": "flM_zk_I0HAW"
      },
      "source": [
        "# Sobre la obtención de los valores de PageRank\n",
        "\n",
        "https://nlp.stanford.edu/IR-book/html/htmledition/the-pagerank-computation-1.html\n",
        "\n",
        "https://nlp.stanford.edu/IR-book/html/htmledition/markov-chains-1.html"
      ]
    }
  ]
}